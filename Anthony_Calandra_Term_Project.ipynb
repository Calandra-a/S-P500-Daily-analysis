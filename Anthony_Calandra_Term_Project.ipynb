{
 "cells": [
  {
   "cell_type": "markdown",
   "metadata": {},
   "source": [
    "#### Comments on code quality: pd.DataFrame.copy() is frequently used in cells, this is to avoid the need to rerun cells, as some took upwards of 30 minutes on my machine. Ideally those wouldnt be there for optimal code"
   ]
  },
  {
   "cell_type": "markdown",
   "metadata": {},
   "source": [
    "## Imports for project"
   ]
  },
  {
   "cell_type": "code",
   "execution_count": 28,
   "metadata": {
    "collapsed": true
   },
   "outputs": [],
   "source": [
    "import pandas as pd\n",
    "from sklearn import preprocessing\n",
    "from sklearn.linear_model import LogisticRegression\n",
    "from sklearn.metrics import confusion_matrix\n",
    "import seaborn as sns\n",
    "import matplotlib.pyplot as plt\n"
   ]
  },
  {
   "cell_type": "markdown",
   "metadata": {},
   "source": [
    "## Import data from csv"
   ]
  },
  {
   "cell_type": "code",
   "execution_count": 29,
   "metadata": {
    "collapsed": true
   },
   "outputs": [],
   "source": [
    "data = pd.read_csv('all_stocks_5yr.csv')"
   ]
  },
  {
   "cell_type": "markdown",
   "metadata": {},
   "source": [
    "## Data Encoding"
   ]
  },
  {
   "cell_type": "code",
   "execution_count": 30,
   "metadata": {
    "collapsed": true
   },
   "outputs": [],
   "source": [
    "#cut off year\n",
    "data['date'] = data['date'].astype(str).str[:-5]\n",
    "#Encode data for Date and Name\n",
    "le = preprocessing.LabelEncoder()\n",
    "#print(data.sort_values([\"date\"]))\n",
    "data[\"date\"] = le.fit_transform(data[\"date\"])\n",
    "data[\"Name\"] = le.fit_transform(data[\"Name\"])\n",
    "#print(data.sort_values([\"date\"]))\n",
    "\n"
   ]
  },
  {
   "cell_type": "markdown",
   "metadata": {},
   "source": [
    "## Cluster Data on dates"
   ]
  },
  {
   "cell_type": "code",
   "execution_count": 32,
   "metadata": {
    "collapsed": true
   },
   "outputs": [],
   "source": [
    "cdata = data.copy()\n",
    "dates = list(range(0,363))\n",
    "first2 = True\n",
    "#col = ['date','open','high','low','close','volume','Name']\n",
    "#dates2 = pd.DataFrame(columns=col)\n",
    "#loop through all unique days present\n",
    "for day in dates:\n",
    "    #loop though and compare for all matching days and add to list\n",
    "    first = True\n",
    "    for i in range(cdata.__len__()):\n",
    "        if cdata.iloc[i,0] == day:\n",
    "            if first == True:\n",
    "                #print(pd.DataFrame(cdata.iloc[[i]]))\n",
    "                dates2 = pd.DataFrame(cdata.iloc[[i]])\n",
    "                #print(dates2)\n",
    "                first = False\n",
    "            else:    \n",
    "                dates2 = dates2.append(pd.DataFrame(cdata.iloc[[i]]))\n",
    "    #take mean of list\n",
    "    if first2 == True:\n",
    "        series = dates2.mean(axis=0)\n",
    "        df = pd.DataFrame(series).transpose()\n",
    "        average = pd.DataFrame(df)\n",
    "        first2 = False\n",
    "    else:\n",
    "        series = dates2.mean(axis=0)\n",
    "        df = pd.DataFrame(series).transpose()\n",
    "        average = average.append(pd.DataFrame(df))"
   ]
  },
  {
   "cell_type": "markdown",
   "metadata": {},
   "source": [
    "## Create DF of averages"
   ]
  },
  {
   "cell_type": "code",
   "execution_count": 172,
   "metadata": {
    "collapsed": true
   },
   "outputs": [],
   "source": [
    "means = average.copy()"
   ]
  },
  {
   "cell_type": "markdown",
   "metadata": {},
   "source": [
    "## Calculate 5 year avg of S&P500 and standard deviation of each column"
   ]
  },
  {
   "cell_type": "code",
   "execution_count": 322,
   "metadata": {},
   "outputs": [],
   "source": [
    "std = means.copy()\n",
    "std = std.drop(['date', 'volume','Name'], axis=1)\n",
    "std = std.std()\n",
    "std = pd.DataFrame(std).transpose()\n",
    "\n",
    "avg = means.copy()\n",
    "\n",
    "avg = avg.drop(['date', 'volume','Name'], axis=1)\n",
    "avg = avg.mean(axis=0)\n",
    "avg = pd.DataFrame(avg).transpose()"
   ]
  },
  {
   "cell_type": "markdown",
   "metadata": {},
   "source": [
    "## Create response DF"
   ]
  },
  {
   "cell_type": "code",
   "execution_count": 323,
   "metadata": {},
   "outputs": [],
   "source": [
    "response = means.copy()\n",
    "response = response.drop(['date', 'volume','Name'], axis=1)\n",
    "response.reset_index(inplace=True)\n",
    "response = response.drop(['index'],axis=1)\n",
    "actions = []\n",
    "\n",
    "for index, row in response.iterrows():\n",
    "    if row['open'] < avg.iloc[0]['open']-.5*std.iloc[0]['open'] and row['high'] < avg.iloc[0]['high']-.5*std.iloc[0]['high'] and row['low'] < avg.iloc[0]['low']-.5*std.iloc[0]['low'] and row['close'] < avg.iloc[0]['close']-.5*std.iloc[0]['close']:\n",
    "        actions.append(\"buy\")\n",
    "    elif row['open'] > avg.iloc[0]['open']+.5*std.iloc[0]['open'] and row['high'] > avg.iloc[0]['high']+.5*std.iloc[0]['high'] and row['low'] > avg.iloc[0]['low']+.5*std.iloc[0]['low'] and row['close'] > avg.iloc[0]['close']+.5*std.iloc[0]['close']:\n",
    "        actions.append(\"sell\")\n",
    "    else:\n",
    "        actions.append(\"pass\")\n",
    "response['actions'] = actions"
   ]
  },
  {
   "cell_type": "markdown",
   "metadata": {},
   "source": [
    "## Data Normalization (implemented here but unused as it deteriorated performance)"
   ]
  },
  {
   "cell_type": "code",
   "execution_count": 324,
   "metadata": {
    "collapsed": true
   },
   "outputs": [],
   "source": [
    "normData = response.copy()\n",
    "normData = normData.drop([\"actions\"],axis=1)\n",
    "normData = pd.DataFrame(preprocessing.normalize(normData,norm=\"l2\"))\n",
    "normData['actions'] = actions\n",
    "normData.columns = ['open', 'high','low','close','actions']"
   ]
  },
  {
   "cell_type": "markdown",
   "metadata": {},
   "source": [
    "## Split Dataset"
   ]
  },
  {
   "cell_type": "code",
   "execution_count": 325,
   "metadata": {},
   "outputs": [],
   "source": [
    "trainingset = response.copy()#Visible here the response DF which not normalized is used here\n",
    "\n",
    "training = pd.DataFrame(trainingset.sample(frac=0.8,replace=False))\n",
    "test = pd.DataFrame(pd.concat([trainingset,training]).drop_duplicates(keep=False))"
   ]
  },
  {
   "cell_type": "markdown",
   "metadata": {},
   "source": [
    "## Logistic Regression"
   ]
  },
  {
   "cell_type": "code",
   "execution_count": 326,
   "metadata": {},
   "outputs": [],
   "source": [
    "logReg = LogisticRegression()\n",
    "logReg.fit(training[['open','high','low','close']],training['actions'])\n",
    "pred = logReg.predict(test[['open','high','low','close']])\n",
    "cf_matrix = confusion_matrix(test['actions'], pred)"
   ]
  },
  {
   "cell_type": "markdown",
   "metadata": {},
   "source": [
    "## Validate Output"
   ]
  },
  {
   "cell_type": "code",
   "execution_count": 327,
   "metadata": {},
   "outputs": [
    {
     "data": {
      "text/plain": [
       "0.87671232876712324"
      ]
     },
     "execution_count": 327,
     "metadata": {},
     "output_type": "execute_result"
    }
   ],
   "source": [
    "logReg.score(test[['open','high','low','close']],test['actions'])"
   ]
  },
  {
   "cell_type": "markdown",
   "metadata": {},
   "source": [
    "## Vizualization"
   ]
  },
  {
   "cell_type": "code",
   "execution_count": 328,
   "metadata": {},
   "outputs": [
    {
     "data": {
      "image/png": "[encoded data removed]",
      "text/plain": [
       "<matplotlib.figure.Figure at 0x1c290211fd0>"
      ]
     },
     "metadata": {},
     "output_type": "display_data"
    }
   ],
   "source": [
    "x_axis_labels = ['Buy','Pass','Sell'] # labels for x-axis\n",
    "y_axis_labels = ['Buy','Pass','Sell'] # labels for y-axis\n",
    "# create seaborn heatmap with required labels\n",
    "sns.heatmap(cf_matrix, xticklabels=x_axis_labels, yticklabels=y_axis_labels)\n",
    "plt.title('Market Analysis', fontsize = 20)\n",
    "plt.ylabel('Predicted', fontsize = 15) \n",
    "plt.xlabel('Actual', fontsize = 15) \n",
    "plt.show()"
   ]
  }
 ],
 "metadata": {
  "kernelspec": {
   "display_name": "Python 3",
   "language": "python",
   "name": "python3"
  },
  "language_info": {
   "codemirror_mode": {
    "name": "ipython",
    "version": 3
   },
   "file_extension": ".py",
   "mimetype": "text/x-python",
   "name": "python",
   "nbconvert_exporter": "python",
   "pygments_lexer": "ipython3",
   "version": "3.6.2"
  }
 },
 "nbformat": 4,
 "nbformat_minor": 2
}
