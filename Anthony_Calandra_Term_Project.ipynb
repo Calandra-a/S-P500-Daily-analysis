{
 "cells": [
  {
   "cell_type": "markdown",
   "metadata": {},
   "source": [
    "## Imports for project"
   ]
  },
  {
   "cell_type": "code",
   "execution_count": 71,
   "metadata": {
    "collapsed": true
   },
   "outputs": [],
   "source": [
    "import pandas as pd\n",
    "from sklearn import preprocessing"
   ]
  },
  {
   "cell_type": "markdown",
   "metadata": {},
   "source": [
    "## Import data from csv"
   ]
  },
  {
   "cell_type": "code",
   "execution_count": 72,
   "metadata": {},
   "outputs": [],
   "source": [
    "data = pd.read_csv('all_stocks_5yr.csv')"
   ]
  },
  {
   "cell_type": "markdown",
   "metadata": {},
   "source": [
    "## Data Encoding"
   ]
  },
  {
   "cell_type": "code",
   "execution_count": 73,
   "metadata": {},
   "outputs": [],
   "source": [
    "#cut off year\n",
    "data['date'] = data['date'].astype(str).str[:-5]\n",
    "#Encode data for Date and Name\n",
    "le = preprocessing.LabelEncoder()\n",
    "data[\"date\"] = le.fit_transform(data[\"date\"])\n",
    "data[\"Name\"] = le.fit_transform(data[\"Name\"])\n",
    "\n"
   ]
  },
  {
   "cell_type": "markdown",
   "metadata": {},
   "source": [
    "## Data Normalization"
   ]
  },
  {
   "cell_type": "code",
   "execution_count": 74,
   "metadata": {},
   "outputs": [],
   "source": [
    "#data['date'] = data[\"date\"].astype(np.float64)\n",
    "#data['volume'] = data[\"volume\"].astype(np.float64)\n",
    "#data['Name'] = data[\"Name\"].astype(np.float64)\n",
    "#print(data.info())\n",
    "#print(\"start---\")\n",
    "#count =0\n",
    "#for i in data:\n",
    "#    if data.loc[[count]].isnull().values.any():\n",
    "#        print(data.loc[[count]])    \n",
    "#    count += 1\n",
    "#print(\"done---\")\n",
    "#data_norm = preprocessing.normalize(data,norm=\"l2\")\n",
    "#print(data_norm)"
   ]
  },
  {
   "cell_type": "markdown",
   "metadata": {},
   "source": [
    "## Cluster Data on dates"
   ]
  },
  {
   "cell_type": "code",
   "execution_count": 171,
   "metadata": {},
   "outputs": [],
   "source": [
    "cdata = data.copy()\n",
    "dates = list(range(0,363))\n",
    "first2 = True\n",
    "#col = ['date','open','high','low','close','volume','Name']\n",
    "#dates2 = pd.DataFrame(columns=col)\n",
    "#loop through all unique days present\n",
    "for day in dates:\n",
    "    #loop though and compare for all matching days and add to list\n",
    "    first = True\n",
    "    for i in range(cdata.__len__()):\n",
    "        if cdata.iloc[i,0] == day:\n",
    "            if first == True:\n",
    "                #print(pd.DataFrame(cdata.iloc[[i]]))\n",
    "                dates2 = pd.DataFrame(cdata.iloc[[i]])\n",
    "                #print(dates2)\n",
    "                first = False\n",
    "            else:    \n",
    "                dates2 = dates2.append(pd.DataFrame(cdata.iloc[[i]]))\n",
    "    #take mean of list\n",
    "    if first2 == True:\n",
    "        series = dates2.mean(axis=0)\n",
    "        df = pd.DataFrame(series).transpose()\n",
    "        #print(type(df))\n",
    "        #print(df)\n",
    "        average = pd.DataFrame(df)\n",
    "        #print(average)\n",
    "        first2 = False\n",
    "    else:\n",
    "        #print(type(average))\n",
    "        series = dates2.mean(axis=0)\n",
    "        df = pd.DataFrame(series).transpose()\n",
    "        average = average.append(pd.DataFrame(df))\n",
    "   #if day==3:\n",
    "        #print(type(dates2))\n",
    "        #print(dates2)\n",
    "        #break\n"
   ]
  },
  {
   "cell_type": "code",
   "execution_count": 172,
   "metadata": {},
   "outputs": [
    {
     "name": "stdout",
     "output_type": "stream",
     "text": [
      "     date        open        high         low       close        volume  \\\n",
      "0     0.0   91.509084   92.259729   90.723094   91.572180  4.213415e+06   \n",
      "0     1.0   93.489742   94.364573   92.457010   93.577147  4.644509e+06   \n",
      "0     2.0   90.942172   91.684775   89.839074   90.915487  4.398161e+06   \n",
      "0     3.0   81.307161   82.017693   79.799221   80.321716  4.933475e+06   \n",
      "0     4.0   76.367409   77.616414   75.561878   77.067580  5.456638e+06   \n",
      "0     5.0   76.521747   77.420899   75.593904   76.431084  6.070596e+06   \n",
      "0     6.0   88.615370   89.577656   87.734597   88.699235  5.005569e+06   \n",
      "0     7.0   92.249161   93.066075   91.430644   92.329622  4.887149e+06   \n",
      "0     8.0  101.843556  102.574246  100.944295  101.825049  4.268157e+06   \n",
      "0     9.0   93.796959   94.533200   92.620087   93.501093  5.036600e+06   \n",
      "0    10.0   87.706329   88.437654   86.699488   87.578221  3.527404e+06   \n",
      "0    11.0   82.829737   83.705149   81.473333   82.867071  5.880918e+06   \n",
      "0    12.0   76.687494   77.717187   75.889373   76.897939  5.392664e+06   \n",
      "0    13.0   86.468871   87.490620   85.667718   86.962716  5.073941e+06   \n",
      "0    14.0   90.376129   91.122786   89.537495   90.326684  4.454335e+06   \n",
      "0    15.0   92.821802   93.643458   91.712705   92.518703  5.166694e+06   \n",
      "0    16.0   94.793814   95.645832   93.677522   94.490163  5.119242e+06   \n",
      "0    17.0   91.755907   92.819590   90.926729   92.212727  4.624432e+06   \n",
      "0    18.0   80.795083   81.595781   79.714195   80.436318  5.107253e+06   \n",
      "0    19.0   76.781842   77.616717   75.494355   76.272650  5.592397e+06   \n",
      "0    20.0   86.141818   87.355490   85.233039   86.518347  5.640748e+06   \n",
      "0    21.0   90.296419   91.254514   89.619957   90.574403  4.116200e+06   \n",
      "0    22.0   89.811253   90.693158   88.746973   89.662213  4.987647e+06   \n",
      "0    23.0   92.333203   93.375074   91.352873   92.381080  5.510933e+06   \n",
      "0    24.0   93.981540   94.867362   93.051385   94.097763  4.652619e+06   \n",
      "0    25.0   91.251728   92.033177   90.223227   91.130327  4.325411e+06   \n",
      "0    26.0   81.383789   82.151697   80.403213   81.154547  4.718999e+06   \n",
      "0    27.0   77.430614   78.443173   76.705911   77.564702  5.073349e+06   \n",
      "0    28.0   86.052665   86.926371   85.149065   85.991806  4.766955e+06   \n",
      "0    29.0   89.439708   90.072735   88.527200   89.167634  4.013392e+06   \n",
      "..    ...         ...         ...         ...         ...           ...   \n",
      "0   333.0   89.549043   90.274482   88.676168   89.340253  4.159393e+06   \n",
      "0   334.0   75.208912   75.976624   74.697194   75.474865  4.304274e+06   \n",
      "0   335.0   81.571807   82.391745   81.064313   82.022905  3.837587e+06   \n",
      "0   336.0   83.161506   84.045098   82.497487   83.430556  4.166136e+06   \n",
      "0   337.0   84.732386   85.267365   83.897282   84.528573  4.057017e+06   \n",
      "0   338.0   89.719278   90.305354   88.916620   89.540343  3.925685e+06   \n",
      "0   339.0   86.895852   87.766048   86.265659   87.293188  4.485748e+06   \n",
      "0   340.0   78.713713   79.446110   78.116736   78.958214  4.542050e+06   \n",
      "0   341.0   76.221389   77.080367   75.663877   76.297893  4.206338e+06   \n",
      "0   342.0   82.317818   83.178006   81.650903   82.472260  5.147979e+06   \n",
      "0   343.0   84.079306   84.610424   83.268409   83.777721  4.630743e+06   \n",
      "0   344.0   83.205645   83.841878   82.436680   83.352020  3.759031e+06   \n",
      "0   345.0   85.344204   85.887376   84.502473   85.037662  4.992063e+06   \n",
      "0   346.0   90.084527   90.880560   89.311099   90.229949  3.976324e+06   \n",
      "0   347.0   87.399715   88.041770   86.624802   87.324743  3.879829e+06   \n",
      "0   348.0   78.752954   79.338702   78.033127   78.535992  3.882893e+06   \n",
      "0   349.0   74.903059   75.709576   74.249224   75.191844  4.395433e+06   \n",
      "0   350.0   81.751140   82.265410   80.635409   81.190455  4.185350e+06   \n",
      "0   351.0   83.352727   84.015779   82.781406   83.431952  3.595720e+06   \n",
      "0   352.0   85.157910   85.921245   84.544952   85.392112  3.930469e+06   \n",
      "0   353.0   89.644959   90.298253   88.403093   89.208846  4.316523e+06   \n",
      "0   354.0   86.324917   87.228430   85.578346   86.417584  4.205929e+06   \n",
      "0   355.0   75.170974   75.798811   74.431092   74.889354  3.972096e+06   \n",
      "0   356.0   77.862725   78.681208   77.223721   78.080891  4.862659e+06   \n",
      "0   357.0   74.586753   75.346902   74.004747   74.659329  4.092286e+06   \n",
      "0   358.0   81.325414   81.914981   80.604032   81.313764  3.751002e+06   \n",
      "0   359.0   84.530260   85.138035   83.667021   84.493389  4.076745e+06   \n",
      "0   360.0   94.282229   95.004447   93.492962   94.360943  3.975533e+06   \n",
      "0   361.0   87.464392   88.215604   86.798462   87.651352  3.988203e+06   \n",
      "0   362.0   78.955651   79.454357   77.740863   78.091297  4.370379e+06   \n",
      "\n",
      "          Name  \n",
      "0   252.592742  \n",
      "0   253.003997  \n",
      "0   252.902010  \n",
      "0   252.966972  \n",
      "0   252.769074  \n",
      "0   252.769074  \n",
      "0   252.268111  \n",
      "0   252.592742  \n",
      "0   252.770149  \n",
      "0   253.003997  \n",
      "0   252.268111  \n",
      "0   253.208754  \n",
      "0   252.769074  \n",
      "0   252.572225  \n",
      "0   252.591806  \n",
      "0   252.592742  \n",
      "0   253.003997  \n",
      "0   252.902010  \n",
      "0   252.966972  \n",
      "0   252.769074  \n",
      "0   252.572225  \n",
      "0   252.610625  \n",
      "0   252.591806  \n",
      "0   252.592742  \n",
      "0   252.850000  \n",
      "0   252.902010  \n",
      "0   252.966972  \n",
      "0   252.769074  \n",
      "0   252.572225  \n",
      "0   252.591806  \n",
      "..         ...  \n",
      "0   253.176707  \n",
      "0   252.921811  \n",
      "0   252.788991  \n",
      "0   252.875190  \n",
      "0   252.953504  \n",
      "0   253.176707  \n",
      "0   253.043917  \n",
      "0   253.120470  \n",
      "0   252.900068  \n",
      "0   252.773028  \n",
      "0   252.875190  \n",
      "0   253.262018  \n",
      "0   252.953504  \n",
      "0   253.176707  \n",
      "0   253.043917  \n",
      "0   253.120470  \n",
      "0   252.790698  \n",
      "0   252.691760  \n",
      "0   252.794118  \n",
      "0   252.953504  \n",
      "0   253.176707  \n",
      "0   252.963169  \n",
      "0   252.900068  \n",
      "0   253.038776  \n",
      "0   252.900068  \n",
      "0   252.573659  \n",
      "0   252.953504  \n",
      "0   253.081836  \n",
      "0   253.043917  \n",
      "0   253.137014  \n",
      "\n",
      "[363 rows x 7 columns]\n"
     ]
    }
   ],
   "source": [
    "type(average)\n",
    "test = average.copy()\n",
    "test.transpose()\n",
    "print(test)"
   ]
  },
  {
   "cell_type": "markdown",
   "metadata": {},
   "source": [
    "## Split Dataset"
   ]
  },
  {
   "cell_type": "code",
   "execution_count": 174,
   "metadata": {},
   "outputs": [],
   "source": [
    "training = pd.DataFrame(test.sample(frac=0.8,replace=False))\n",
    "test = pd.DataFrame(pd.concat([test,training]).drop_duplicates(keep=False))"
   ]
  },
  {
   "cell_type": "markdown",
   "metadata": {},
   "source": [
    "## Logistic Regression"
   ]
  },
  {
   "cell_type": "code",
   "execution_count": null,
   "metadata": {
    "collapsed": true
   },
   "outputs": [],
   "source": []
  }
 ],
 "metadata": {
  "kernelspec": {
   "display_name": "Python 3",
   "language": "python",
   "name": "python3"
  },
  "language_info": {
   "codemirror_mode": {
    "name": "ipython",
    "version": 3
   },
   "file_extension": ".py",
   "mimetype": "text/x-python",
   "name": "python",
   "nbconvert_exporter": "python",
   "pygments_lexer": "ipython3",
   "version": "3.6.2"
  }
 },
 "nbformat": 4,
 "nbformat_minor": 2
}
