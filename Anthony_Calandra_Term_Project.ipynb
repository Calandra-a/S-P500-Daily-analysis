{
 "cells": [
  {
   "cell_type": "markdown",
   "metadata": {},
   "source": [
    "## Imports for project"
   ]
  },
  {
   "cell_type": "code",
   "execution_count": 404,
   "metadata": {},
   "outputs": [],
   "source": [
    "import pandas as pd\n",
    "from sklearn import preprocessing\n",
    "from sklearn.linear_model import LogisticRegression\n",
    "from sklearn.metrics import confusion_matrix\n",
    "import seaborn as sns\n",
    "import matplotlib.pyplot as plt\n"
   ]
  },
  {
   "cell_type": "markdown",
   "metadata": {},
   "source": [
    "## Import data from csv"
   ]
  },
  {
   "cell_type": "code",
   "execution_count": 216,
   "metadata": {},
   "outputs": [],
   "source": [
    "data = pd.read_csv('all_stocks_5yr.csv')"
   ]
  },
  {
   "cell_type": "markdown",
   "metadata": {},
   "source": [
    "## Data Encoding"
   ]
  },
  {
   "cell_type": "code",
   "execution_count": 217,
   "metadata": {},
   "outputs": [
    {
     "name": "stdout",
     "output_type": "stream",
     "text": [
      "        date     open     high       low    close     volume  Name\n",
      "31455   1/10  135.110  135.250  132.2900  132.960     884639   ALB\n",
      "380106  1/10   81.950   82.120   81.0400   81.160    2568116   MMC\n",
      "16599   1/10   36.170   36.660   35.9850   36.520    2106624   AEE\n",
      "520794  1/10   67.130   68.620   66.9500   67.700    3274506   STI\n",
      "273673  1/10   48.190   48.760   48.0300   48.430    2486702   HIG\n",
      "31707   1/10   60.430   61.440   59.8710   60.710     568493  ALGN\n",
      "404987  1/10   80.400   81.380   80.1400   81.230     929548  NDAQ\n",
      "334782  1/10   56.800   59.320   56.7500   58.840    4471128   KSS\n",
      "311465  1/10  128.430  128.930  127.6800  128.160     289360    IT\n",
      "95805   1/10   37.330   37.430   36.6050   36.830    2773864   CAG\n",
      "550387  1/10   53.310   53.760   52.9800   53.080    1096789   TSS\n",
      "479247  1/10  368.650  371.420  365.6000  366.460     805844  REGN\n",
      "163857  1/10   94.230   95.220   93.9200   94.780    1469078    DG\n",
      "567470  1/10  128.520  130.460  128.4900  129.790    2927883   UPS\n",
      "603660  1/10   30.960   31.090   30.5850   30.730    3687543    WY\n",
      "454142  1/10   43.370   43.430   42.9800   43.180     892165   PKI\n",
      "237042  1/10   28.710   29.290   28.5600   28.920    2829212   FOX\n",
      "601142  1/10   93.670   95.470   93.3600   94.830    3056006  WYNN\n",
      "521046  1/10   75.320   75.460   74.6800   74.880    1391996   STT\n",
      "453890  1/10  127.940  128.410  127.3300  128.000     484574   PKG\n",
      "272918  1/10   36.120   36.140   35.5400   35.940    4780590   HIG\n",
      "563693  1/10  224.830  225.010  223.0300  224.200    2311609   UNH\n",
      "113274  1/10   32.740   32.915   32.6400   32.890    1453208   CHD\n",
      "237294  1/10   36.190   36.290   35.0700   35.320    6894965   FOX\n",
      "66807   1/10   41.680   42.410   41.6200   41.990     941397   AWK\n",
      "311717  1/10   36.280   36.380   35.6500   35.850    3813375   IVZ\n",
      "35288   1/10   53.750   54.340   53.5200   54.090    2421917   ALL\n",
      "321285  1/10   45.100   45.980   44.8900   45.670    2325001   JWN\n",
      "380358  1/10  136.950  137.190  135.6800  136.180    3254329   MMM\n",
      "163605  1/10   73.740   74.840   73.4601   74.250    2022402    DG\n",
      "...      ...      ...      ...       ...      ...        ...   ...\n",
      "231597   9/9   76.000   76.020   74.9600   75.020     651205   FLS\n",
      "326387   9/9  106.980  107.190  106.2700  106.850    1978956   KMB\n",
      "376999   9/9   81.370   81.750   79.6700   79.880     943441   MKC\n",
      "174079   9/9   87.830   88.360   87.6400   88.150     855738   DOV\n",
      "213719   9/9   50.760   51.550   50.5300   50.641    5147888  EXPE\n",
      "260746   9/9  227.170  227.200  222.4900  222.870     799425   GWW\n",
      "326135   9/9   93.030   93.610   92.8000   93.610    1537123   KMB\n",
      "454308   9/9   45.440   45.480   44.9300   44.980     585345   PKI\n",
      "254704   9/9   75.770   76.020   73.6200   73.620    1556835   GPN\n",
      "510888   9/9   75.460   75.970   74.8500   75.050    1070645   SNI\n",
      "606094   9/9   42.020   42.020   40.7650   40.780    4166600   XEL\n",
      "13995    9/9   37.180   37.830   37.1400   37.700    1867257  ADSK\n",
      "415729   9/9   40.520   40.700   38.5200   38.800    6130957   NOV\n",
      "437187   9/9   16.260   16.340   16.0800   16.080    3056599  PBCT\n",
      "386065   9/9   66.060   66.085   63.5600   63.560   10546408    MO\n",
      "281322   9/9   62.020   62.730   59.8200   59.830    1544164    HP\n",
      "263012   9/9   54.030   54.110   53.5700   53.670    1252197   HAS\n",
      "511140   9/9   79.510   79.550   78.3500   78.410     647431   SNI\n",
      "73773    9/9   15.910   16.150   15.7400   15.740  135182534   BAC\n",
      "454056   9/9   37.040   37.470   37.0000   37.420     562849   PKI\n",
      "392862   9/9   26.960   27.450   26.9500   27.440   12704330    MS\n",
      "200842   9/9   85.310   86.200   85.2500   86.110     690428   EQT\n",
      "242145   9/9  145.580  145.850  142.1800  142.470    1207931    GD\n",
      "29355    9/9   61.890   61.970   61.0500   61.170     788173  AKAM\n",
      "231345   9/9   59.280   59.820   59.2800   59.670     892142   FLS\n",
      "560082   9/9   68.320   68.430   67.5000   67.600     620559   UHS\n",
      "113188   9/9   28.425   29.045   28.4250   29.000    1841032   CHD\n",
      "40238    9/9   44.180   44.310   43.8700   43.900    1683860   AME\n",
      "365164   9/9   96.220   96.790   96.2100   96.450    3532093   MCD\n",
      "173072   9/9   55.270   56.040   55.2020   55.910    2050181  DLTR\n",
      "\n",
      "[619040 rows x 7 columns]\n",
      "        date     open     high       low    close     volume  Name\n",
      "31455      0  135.110  135.250  132.2900  132.960     884639    25\n",
      "380106     0   81.950   82.120   81.0400   81.160    2568116   312\n",
      "16599      0   36.170   36.660   35.9850   36.520    2106624    14\n",
      "520794     0   67.130   68.620   66.9500   67.700    3274506   424\n",
      "273673     0   48.190   48.760   48.0300   48.430    2486702   224\n",
      "31707      0   60.430   61.440   59.8710   60.710     568493    26\n",
      "404987     0   80.400   81.380   80.1400   81.230     929548   331\n",
      "334782     0   56.800   59.320   56.7500   58.840    4471128   276\n",
      "311465     0  128.430  128.930  127.6800  128.160     289360   255\n",
      "95805      0   37.330   37.430   36.6050   36.830    2773864    80\n",
      "550387     0   53.310   53.760   52.9800   53.080    1096789   449\n",
      "479247     0  368.650  371.420  365.6000  366.460     805844   393\n",
      "163857     0   94.230   95.220   93.9200   94.780    1469078   133\n",
      "567470     0  128.520  130.460  128.4900  129.790    2927883   462\n",
      "603660     0   30.960   31.090   30.5850   30.730    3687543   490\n",
      "454142     0   43.370   43.430   42.9800   43.180     892165   371\n",
      "237042     0   28.710   29.290   28.5600   28.920    2829212   194\n",
      "601142     0   93.670   95.470   93.3600   94.830    3056006   492\n",
      "521046     0   75.320   75.460   74.6800   74.880    1391996   425\n",
      "453890     0  127.940  128.410  127.3300  128.000     484574   370\n",
      "272918     0   36.120   36.140   35.5400   35.940    4780590   224\n",
      "563693     0  224.830  225.010  223.0300  224.200    2311609   459\n",
      "113274     0   32.740   32.915   32.6400   32.890    1453208    94\n",
      "237294     0   36.190   36.290   35.0700   35.320    6894965   194\n",
      "66807      0   41.680   42.410   41.6200   41.990     941397    55\n",
      "311717     0   36.280   36.380   35.6500   35.850    3813375   257\n",
      "35288      0   53.750   54.340   53.5200   54.090    2421917    28\n",
      "321285     0   45.100   45.980   44.8900   45.670    2325001   264\n",
      "380358     0  136.950  137.190  135.6800  136.180    3254329   313\n",
      "163605     0   73.740   74.840   73.4601   74.250    2022402   133\n",
      "...      ...      ...      ...       ...      ...        ...   ...\n",
      "231597   362   76.000   76.020   74.9600   75.020     651205   192\n",
      "326387   362  106.980  107.190  106.2700  106.850    1978956   270\n",
      "376999   362   81.370   81.750   79.6700   79.880     943441   310\n",
      "174079   362   87.830   88.360   87.6400   88.150     855738   143\n",
      "213719   362   50.760   51.550   50.5300   50.641    5147888   176\n",
      "260746   362  227.170  227.200  222.4900  222.870     799425   214\n",
      "326135   362   93.030   93.610   92.8000   93.610    1537123   270\n",
      "454308   362   45.440   45.480   44.9300   44.980     585345   371\n",
      "254704   362   75.770   76.020   73.6200   73.620    1556835   209\n",
      "510888   362   75.460   75.970   74.8500   75.050    1070645   417\n",
      "606094   362   42.020   42.020   40.7650   40.780    4166600   494\n",
      "13995    362   37.180   37.830   37.1400   37.700    1867257    13\n",
      "415729   362   40.520   40.700   38.5200   38.800    6130957   340\n",
      "437187   362   16.260   16.340   16.0800   16.080    3056599   357\n",
      "386065   362   66.060   66.085   63.5600   63.560   10546408   315\n",
      "281322   362   62.020   62.730   59.8200   59.830    1544164   230\n",
      "263012   362   54.030   54.110   53.5700   53.670    1252197   216\n",
      "511140   362   79.510   79.550   78.3500   78.410     647431   417\n",
      "73773    362   15.910   16.150   15.7400   15.740  135182534    60\n",
      "454056   362   37.040   37.470   37.0000   37.420     562849   371\n",
      "392862   362   26.960   27.450   26.9500   27.440   12704330   321\n",
      "200842   362   85.310   86.200   85.2500   86.110     690428   165\n",
      "242145   362  145.580  145.850  142.1800  142.470    1207931   199\n",
      "29355    362   61.890   61.970   61.0500   61.170     788173    24\n",
      "231345   362   59.280   59.820   59.2800   59.670     892142   192\n",
      "560082   362   68.320   68.430   67.5000   67.600     620559   457\n",
      "113188   362   28.425   29.045   28.4250   29.000    1841032    94\n",
      "40238    362   44.180   44.310   43.8700   43.900    1683860    33\n",
      "365164   362   96.220   96.790   96.2100   96.450    3532093   301\n",
      "173072   362   55.270   56.040   55.2020   55.910    2050181   142\n",
      "\n",
      "[619040 rows x 7 columns]\n"
     ]
    }
   ],
   "source": [
    "#cut off year\n",
    "data['date'] = data['date'].astype(str).str[:-5]\n",
    "#Encode data for Date and Name\n",
    "le = preprocessing.LabelEncoder()\n",
    "#print(data.sort_values([\"date\"]))\n",
    "data[\"date\"] = le.fit_transform(data[\"date\"])\n",
    "data[\"Name\"] = le.fit_transform(data[\"Name\"])\n",
    "#print(data.sort_values([\"date\"]))\n",
    "\n"
   ]
  },
  {
   "cell_type": "markdown",
   "metadata": {},
   "source": [
    "## Data Normalization"
   ]
  },
  {
   "cell_type": "code",
   "execution_count": 74,
   "metadata": {},
   "outputs": [],
   "source": [
    "#data['date'] = data[\"date\"].astype(np.float64)\n",
    "#data['volume'] = data[\"volume\"].astype(np.float64)\n",
    "#data['Name'] = data[\"Name\"].astype(np.float64)\n",
    "#print(data.info())\n",
    "#print(\"start---\")\n",
    "#count =0\n",
    "#for i in data:\n",
    "#    if data.loc[[count]].isnull().values.any():\n",
    "#        print(data.loc[[count]])    \n",
    "#    count += 1\n",
    "#print(\"done---\")\n",
    "#data_norm = preprocessing.normalize(data,norm=\"l2\")\n",
    "#print(data_norm)"
   ]
  },
  {
   "cell_type": "markdown",
   "metadata": {},
   "source": [
    "## Cluster Data on dates"
   ]
  },
  {
   "cell_type": "code",
   "execution_count": 171,
   "metadata": {},
   "outputs": [],
   "source": [
    "cdata = data.copy()\n",
    "dates = list(range(0,363))\n",
    "first2 = True\n",
    "#col = ['date','open','high','low','close','volume','Name']\n",
    "#dates2 = pd.DataFrame(columns=col)\n",
    "#loop through all unique days present\n",
    "for day in dates:\n",
    "    #loop though and compare for all matching days and add to list\n",
    "    first = True\n",
    "    for i in range(cdata.__len__()):\n",
    "        if cdata.iloc[i,0] == day:\n",
    "            if first == True:\n",
    "                #print(pd.DataFrame(cdata.iloc[[i]]))\n",
    "                dates2 = pd.DataFrame(cdata.iloc[[i]])\n",
    "                #print(dates2)\n",
    "                first = False\n",
    "            else:    \n",
    "                dates2 = dates2.append(pd.DataFrame(cdata.iloc[[i]]))\n",
    "    #take mean of list\n",
    "    if first2 == True:\n",
    "        series = dates2.mean(axis=0)\n",
    "        df = pd.DataFrame(series).transpose()\n",
    "        #print(type(df))\n",
    "        #print(df)\n",
    "        average = pd.DataFrame(df)\n",
    "        #print(average)\n",
    "        first2 = False\n",
    "    else:\n",
    "        #print(type(average))\n",
    "        series = dates2.mean(axis=0)\n",
    "        df = pd.DataFrame(series).transpose()\n",
    "        average = average.append(pd.DataFrame(df))\n",
    "   #if day==3:\n",
    "        #print(type(dates2))\n",
    "        #print(dates2)\n",
    "        #break\n"
   ]
  },
  {
   "cell_type": "markdown",
   "metadata": {},
   "source": [
    "## Create DF of averages"
   ]
  },
  {
   "cell_type": "code",
   "execution_count": 374,
   "metadata": {},
   "outputs": [],
   "source": [
    "#type(average)\n",
    "means = average.copy()\n",
    "#might have to add back after re-running the clustering\n",
    "#means.transpose()\n",
    "#print(test)"
   ]
  },
  {
   "cell_type": "markdown",
   "metadata": {},
   "source": [
    "## Calculate 5 year avg of S&P500"
   ]
  },
  {
   "cell_type": "code",
   "execution_count": 375,
   "metadata": {},
   "outputs": [],
   "source": [
    "avg = means.copy()\n",
    "#print(avg)\n",
    "avg = avg.drop(['date', 'volume','Name'], axis=1)\n",
    "#print(avg)\n",
    "avg = avg.mean(axis=0)\n",
    "avg = pd.DataFrame(avg).transpose()\n",
    "#print(avg)\n",
    "#avg = avg.append(pd.DataFrame(df))"
   ]
  },
  {
   "cell_type": "markdown",
   "metadata": {},
   "source": [
    "## Create response DF"
   ]
  },
  {
   "cell_type": "code",
   "execution_count": 376,
   "metadata": {},
   "outputs": [],
   "source": [
    "response = means.copy()\n",
    "response = response.drop(['date', 'volume','Name'], axis=1)\n",
    "response.reset_index(inplace=True)\n",
    "response = response.drop(['index'],axis=1)\n",
    "#print(response)\n",
    "actions = []\n",
    "for index, row in response.iterrows():\n",
    "    #print(row['open'])\n",
    "    if (row['open'] > avg.loc[0]['open']) and (row['high'] > avg.iloc[0]['high']) and (row['low'] > avg.iloc[0]['low']) and (row['close'] > avg.iloc[0]['close']):\n",
    "        actions.append(\"sell\")\n",
    "    elif (row['open'] < avg.loc[0]['open']) and (row['high'] < avg.iloc[0]['high']) and (row['low'] < avg.iloc[0]['low']) and (row['close'] < avg.iloc[0]['close']):\n",
    "        actions.append(\"buy\")\n",
    "    else:\n",
    "        actions.append(\"pass\")\n",
    "#print(actions)\n",
    "response['actions'] = actions\n",
    "#response = response.drop(['open', 'high','low','close'], axis=1)\n",
    "#print(response)"
   ]
  },
  {
   "cell_type": "markdown",
   "metadata": {},
   "source": [
    "## Split Dataset"
   ]
  },
  {
   "cell_type": "code",
   "execution_count": 377,
   "metadata": {},
   "outputs": [],
   "source": [
    "trainingset = response.copy()\n",
    "\n",
    "training = pd.DataFrame(trainingset.sample(frac=0.8,replace=False))\n",
    "test = pd.DataFrame(pd.concat([trainingset,training]).drop_duplicates(keep=False))"
   ]
  },
  {
   "cell_type": "markdown",
   "metadata": {},
   "source": [
    "## Logistic Regression"
   ]
  },
  {
   "cell_type": "code",
   "execution_count": 396,
   "metadata": {},
   "outputs": [],
   "source": [
    "logReg = LogisticRegression()\n",
    "logReg.fit(training[['open','high','low','close']],training['actions'])\n",
    "pred = logReg.predict(test[['open','high','low','close']])\n",
    "cf_matrix = confusion_matrix(test['actions'], pred)\n",
    "#Buy,pass,sell x buy,pass,sell\n",
    "#print(cf_matrix)"
   ]
  },
  {
   "cell_type": "markdown",
   "metadata": {},
   "source": [
    "## Validate Output"
   ]
  },
  {
   "cell_type": "code",
   "execution_count": 387,
   "metadata": {},
   "outputs": [
    {
     "data": {
      "text/plain": [
       "0.76388888888888884"
      ]
     },
     "execution_count": 387,
     "metadata": {},
     "output_type": "execute_result"
    }
   ],
   "source": [
    "logReg.score(test[['open','high','low','close']],test['actions'])"
   ]
  },
  {
   "cell_type": "markdown",
   "metadata": {},
   "source": [
    "## Vizualization"
   ]
  },
  {
   "cell_type": "code",
   "execution_count": 406,
   "metadata": {},
   "outputs": [
    {
     "data": {
      "image/png": "[encoded data removed]",
      "text/plain": [
       "<matplotlib.figure.Figure at 0x18e159076a0>"
      ]
     },
     "metadata": {},
     "output_type": "display_data"
    }
   ],
   "source": [
    "sns.heatmap(cf_matrix)\n",
    "plt.show()"
   ]
  },
  {
   "cell_type": "code",
   "execution_count": null,
   "metadata": {
    "collapsed": true
   },
   "outputs": [],
   "source": []
  }
 ],
 "metadata": {
  "kernelspec": {
   "display_name": "Python 3",
   "language": "python",
   "name": "python3"
  },
  "language_info": {
   "codemirror_mode": {
    "name": "ipython",
    "version": 3
   },
   "file_extension": ".py",
   "mimetype": "text/x-python",
   "name": "python",
   "nbconvert_exporter": "python",
   "pygments_lexer": "ipython3",
   "version": "3.6.2"
  }
 },
 "nbformat": 4,
 "nbformat_minor": 2
}
